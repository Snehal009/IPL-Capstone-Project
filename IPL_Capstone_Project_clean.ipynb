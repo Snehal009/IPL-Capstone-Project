{
 "cells": [
  {
   "cell_type": "code",
   "execution_count": null,
   "id": "37c8bd1f-4a81-4b76-910b-91f1ab360314",
   "metadata": {},
   "outputs": [],
   "source": [
    "import numpy as np\n",
    "import pandas as pd\n",
    "import seaborn as sns\n",
    "import matplotlib.pyplot as plt\n",
    "import warnings\n",
    "warnings.filterwarnings(\"ignore\")\n",
    "\n",
    "df=pd.read_csv('IPL.csv')\n",
    "\n",
    "df.head()\n",
    "\n"
   ]
  },
  {
   "cell_type": "markdown",
   "id": "68acc614-597d-47c9-93be-3ff20084cb5a",
   "metadata": {},
   "source": [
    "## Basic Information"
   ]
  },
  {
   "cell_type": "code",
   "execution_count": null,
   "id": "741f3baa-6794-454d-96b0-c22f92f3b317",
   "metadata": {},
   "outputs": [],
   "source": [
    "df.info()"
   ]
  },
  {
   "cell_type": "markdown",
   "id": "07ae7b3d-7f0a-47ec-9cd1-0e489d89e291",
   "metadata": {},
   "source": [
    "## check the size of rows and columns of the dataset"
   ]
  },
  {
   "cell_type": "code",
   "execution_count": null,
   "id": "0f6ced09-4b18-4ecd-9dd9-af9ca8ccc039",
   "metadata": {},
   "outputs": [],
   "source": [
    "print(f\"your rows are {df.shape[0]} and your columns are {df.shape[1]}\")"
   ]
  },
  {
   "cell_type": "markdown",
   "id": "b6df6f02-8cf3-4a3f-b48d-80953099c4a7",
   "metadata": {},
   "source": [
    "##  how many columns have null values in total"
   ]
  },
  {
   "cell_type": "code",
   "execution_count": null,
   "id": "45cbd2de-c05d-47ac-a2cb-9e4b023065a5",
   "metadata": {},
   "outputs": [],
   "source": [
    "df.isnull().sum()"
   ]
  },
  {
   "cell_type": "markdown",
   "id": "454d5872-d248-4e3c-8ca8-d944cfd4fe78",
   "metadata": {},
   "source": [
    "## Which team won the most matches ?"
   ]
  },
  {
   "cell_type": "code",
   "execution_count": null,
   "id": "bcdc9fdd-ccec-40fe-99d1-dc27738666d6",
   "metadata": {},
   "outputs": [],
   "source": [
    "match_wins= df['match_winner'].value_counts()\n",
    "sns.barplot(y= match_wins.index,x= match_wins.values,palette='viridis')\n",
    "plt.title(\"Most match win by team\")\n"
   ]
  },
  {
   "cell_type": "markdown",
   "id": "0540a514-8d10-4a4e-acaa-95e238cbdcf3",
   "metadata": {},
   "source": [
    "## Toss decision Trends"
   ]
  },
  {
   "cell_type": "code",
   "execution_count": null,
   "id": "edca1d7a-8691-40d5-8776-5a9bd079ebcc",
   "metadata": {},
   "outputs": [],
   "source": [
    "sns.countplot(x=df['toss_decision'] ,palette='rainbow')\n",
    "plt.title(\"Toss Decision Trends\")"
   ]
  },
  {
   "cell_type": "markdown",
   "id": "51a1d5c6-a6b9-4b41-b830-52a669b5b31e",
   "metadata": {},
   "source": [
    "## Toss winner Vs Match winner"
   ]
  },
  {
   "cell_type": "code",
   "execution_count": null,
   "id": "1d01a95e-e871-433c-9ffb-f3d12957d2a7",
   "metadata": {},
   "outputs": [],
   "source": [
    "count= df[df['toss_winner']== df['match_winner']]['match_id'].count()\n",
    "percentage = (count*100)/df.shape[0]\n",
    "percentage.round(2)"
   ]
  },
  {
   "cell_type": "markdown",
   "id": "b7e30d6c-40b2-4a44-b8f2-670241e0c9e8",
   "metadata": {},
   "source": [
    "## How do teams win? (Runs Vs Wickets)"
   ]
  },
  {
   "cell_type": "code",
   "execution_count": null,
   "id": "e0a72ce6-1845-44d0-a2c3-8818c5bf9300",
   "metadata": {},
   "outputs": [],
   "source": [
    "sns.countplot(x=df['won_by'])\n",
    "plt.title(\"Won By\")"
   ]
  },
  {
   "cell_type": "markdown",
   "id": "b636de4b-0825-467a-8fa0-baa8a44a3c07",
   "metadata": {},
   "source": [
    "## Key Player Performance\n",
    " ## 1 Most \"player of the match Awards \" "
   ]
  },
  {
   "cell_type": "code",
   "execution_count": null,
   "id": "e82aad3a-0199-4ba8-b8d6-e1b8cb11a491",
   "metadata": {},
   "outputs": [],
   "source": [
    "count=df['player_of_the_match'].value_counts().head(10)\n",
    "count"
   ]
  },
  {
   "cell_type": "code",
   "execution_count": null,
   "id": "124585ce-5562-46da-b722-5470deec742a",
   "metadata": {},
   "outputs": [],
   "source": [
    "sns.barplot(x=count.values,y=count.index,palette='mako')\n",
    "plt.title(\"Top 10 players with man of the match\")"
   ]
  },
  {
   "cell_type": "markdown",
   "id": "002a8072-a49a-4c80-8e68-f2a81058803b",
   "metadata": {},
   "source": [
    "## 2 Top scorers"
   ]
  },
  {
   "cell_type": "code",
   "execution_count": null,
   "id": "ef4c4636-d9d0-4375-86f8-4685f19732d0",
   "metadata": {},
   "outputs": [],
   "source": [
    "high =df.groupby('top_scorer')['highscore'].sum().sort_values(ascending=False).head(2)\n",
    "high"
   ]
  },
  {
   "cell_type": "code",
   "execution_count": null,
   "id": "08ca99d5-f9d6-4eac-a33a-7375c06f5502",
   "metadata": {},
   "outputs": [],
   "source": [
    "high.plot(kind=\"barh\")"
   ]
  },
  {
   "cell_type": "markdown",
   "id": "6e5c1d20-551d-4296-92bd-801bb9ab8064",
   "metadata": {},
   "source": [
    "## 10 Best Bowling figures"
   ]
  },
  {
   "cell_type": "code",
   "execution_count": null,
   "id": "4a712136-7808-404e-ac4e-e6ff42e5c6a1",
   "metadata": {},
   "outputs": [],
   "source": [
    "df['highest_wickets']=df['best_bowling_figure'].apply(lambda x : x.split('--')[0])\n",
    "df['highest_wickets']=df['highest_wickets'].astype(int)\n",
    "top_bowlers = df.groupby('best_bowling')['highest_wickets'].sum().sort_values(ascending=False).head(10)\n",
    "top_bowlers.plot(kind = 'barh')\n"
   ]
  },
  {
   "cell_type": "markdown",
   "id": "358b887e-cbe7-4f71-9de4-69ee9227ccf4",
   "metadata": {},
   "source": [
    "## Venue Analysis"
   ]
  },
  {
   "cell_type": "markdown",
   "id": "b5f849fc-1686-4e65-84bd-45a859597329",
   "metadata": {},
   "source": [
    "## Most Matches Played by venue"
   ]
  },
  {
   "cell_type": "code",
   "execution_count": null,
   "id": "2ab236ec-81c6-4280-a1ae-93dfc04aec3c",
   "metadata": {},
   "outputs": [],
   "source": [
    "venue_count =df['venue'].value_counts()\n",
    "venue_count"
   ]
  },
  {
   "cell_type": "code",
   "execution_count": null,
   "id": "41af7d83-e094-47aa-ae78-7e5ab6cbfe8d",
   "metadata": {},
   "outputs": [],
   "source": [
    "sns.barplot(y=venue_count.index,x=venue_count.values,palette='rainbow')"
   ]
  },
  {
   "cell_type": "markdown",
   "id": "3c1ab6b6-ad66-4896-b675-88c12b61246a",
   "metadata": {},
   "source": [
    "## who won the highest margin by runs?"
   ]
  },
  {
   "cell_type": "code",
   "execution_count": null,
   "id": "4f8b868d-9664-4ac0-a0d1-7896878a7a27",
   "metadata": {},
   "outputs": [],
   "source": [
    "df[df['won_by']=='Runs'].sort_values(by='margin',ascending=False).head(1)[['match_winner','margin']]"
   ]
  },
  {
   "cell_type": "markdown",
   "id": "fd5f165b-353f-45ca-a26a-07804f9486fc",
   "metadata": {},
   "source": [
    "## which player had the highest individual score?"
   ]
  },
  {
   "cell_type": "code",
   "execution_count": null,
   "id": "b8390357-0350-4dfa-b7b0-22f9bbf76c18",
   "metadata": {},
   "outputs": [],
   "source": [
    "df[df['highscore']== df['highscore'].max()][['top_scorer','highscore']]"
   ]
  },
  {
   "cell_type": "markdown",
   "id": "67044eee-1663-4907-a5b3-3cec5288270e",
   "metadata": {},
   "source": [
    "## which bowler had the best bowling figures"
   ]
  },
  {
   "cell_type": "code",
   "execution_count": null,
   "id": "00a346d9-e6d2-4647-a6d7-2c36fd184fa6",
   "metadata": {},
   "outputs": [],
   "source": [
    "df[df['highest_wickets'] == df['highest_wickets'].max()][['best_bowling','best_bowling_figure']]"
   ]
  }
 ],
 "metadata": {
  "kernelspec": {
   "display_name": "Python 3 (ipykernel)",
   "language": "python",
   "name": "python3"
  },
  "language_info": {
   "codemirror_mode": {
    "name": "ipython",
    "version": 3
   },
   "file_extension": ".py",
   "mimetype": "text/x-python",
   "name": "python",
   "nbconvert_exporter": "python",
   "pygments_lexer": "ipython3",
   "version": "3.13.3"
  },
  "widgets": {
   "application/vnd.jupyter.widget-state+json": {
    "state": {},
    "version_major": 2,
    "version_minor": 0
   }
  }
 },
 "nbformat": 4,
 "nbformat_minor": 5
}
